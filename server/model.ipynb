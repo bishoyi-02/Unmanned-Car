{
 "cells": [
  {
   "cell_type": "markdown",
   "metadata": {
    "colab_type": "text",
    "id": "3DR-eO17geWu"
   },
   "source": [
    "# Convolutional Neural Network"
   ]
  },
  {
   "cell_type": "markdown",
   "metadata": {
    "colab_type": "text",
    "id": "EMefrVPCg-60"
   },
   "source": [
    "### Importing the libraries"
   ]
  },
  {
   "cell_type": "code",
   "execution_count": 1,
   "metadata": {
    "colab": {},
    "colab_type": "code",
    "id": "sCV30xyVhFbE"
   },
   "outputs": [],
   "source": [
    "import tensorflow as tf\n",
    "from keras.preprocessing.image import ImageDataGenerator"
   ]
  },
  {
   "cell_type": "code",
   "execution_count": 2,
   "metadata": {
    "colab": {},
    "colab_type": "code",
    "id": "FIleuCAjoFD8"
   },
   "outputs": [
    {
     "data": {
      "text/plain": [
       "'2.9.1'"
      ]
     },
     "execution_count": 2,
     "metadata": {},
     "output_type": "execute_result"
    }
   ],
   "source": [
    "tf.__version__"
   ]
  },
  {
   "cell_type": "markdown",
   "metadata": {
    "colab_type": "text",
    "id": "oxQxCBWyoGPE"
   },
   "source": [
    "## Part 1 - Data Preprocessing"
   ]
  },
  {
   "cell_type": "markdown",
   "metadata": {
    "colab_type": "text",
    "id": "MvE-heJNo3GG"
   },
   "source": [
    "### Preprocessing the Training set"
   ]
  },
  {
   "cell_type": "code",
   "execution_count": 6,
   "metadata": {
    "colab": {},
    "colab_type": "code",
    "id": "0koUcJMJpEBD"
   },
   "outputs": [
    {
     "name": "stdout",
     "output_type": "stream",
     "text": [
      "Found 843 images belonging to 2 classes.\n"
     ]
    }
   ],
   "source": [
    "train_datagen = ImageDataGenerator(rescale = 1./255,\n",
    "                                   shear_range = 0.2,\n",
    "                                   zoom_range = 0.2,\n",
    "                                   horizontal_flip = True)\n",
    "training_set = train_datagen.flow_from_directory('fire_dataset/training_set',\n",
    "                                                 target_size = (64, 64),\n",
    "                                                 batch_size = 32,\n",
    "                                                 class_mode = 'binary')"
   ]
  },
  {
   "cell_type": "markdown",
   "metadata": {
    "colab_type": "text",
    "id": "mrCMmGw9pHys"
   },
   "source": [
    "### Preprocessing the Test set"
   ]
  },
  {
   "cell_type": "code",
   "execution_count": 7,
   "metadata": {
    "colab": {},
    "colab_type": "code",
    "id": "SH4WzfOhpKc3"
   },
   "outputs": [
    {
     "name": "stdout",
     "output_type": "stream",
     "text": [
      "Found 156 images belonging to 2 classes.\n"
     ]
    }
   ],
   "source": [
    "test_datagen = ImageDataGenerator(rescale = 1./255)\n",
    "test_set = test_datagen.flow_from_directory('fire_dataset/test_set',\n",
    "                                            target_size = (64, 64),\n",
    "                                            batch_size = 32,\n",
    "                                            class_mode = 'binary')"
   ]
  },
  {
   "cell_type": "markdown",
   "metadata": {
    "colab_type": "text",
    "id": "af8O4l90gk7B"
   },
   "source": [
    "## Part 2 - Building the CNN"
   ]
  },
  {
   "cell_type": "markdown",
   "metadata": {
    "colab_type": "text",
    "id": "ces1gXY2lmoX"
   },
   "source": [
    "### Initialising the CNN"
   ]
  },
  {
   "cell_type": "code",
   "execution_count": 8,
   "metadata": {
    "colab": {},
    "colab_type": "code",
    "id": "SAUt4UMPlhLS"
   },
   "outputs": [],
   "source": [
    "cnn = tf.keras.models.Sequential()"
   ]
  },
  {
   "cell_type": "markdown",
   "metadata": {
    "colab_type": "text",
    "id": "u5YJj_XMl5LF"
   },
   "source": [
    "### Step 1 - Convolution"
   ]
  },
  {
   "cell_type": "code",
   "execution_count": 9,
   "metadata": {
    "colab": {},
    "colab_type": "code",
    "id": "XPzPrMckl-hV"
   },
   "outputs": [],
   "source": [
    "cnn.add(tf.keras.layers.Conv2D(filters=32, kernel_size=3, activation='relu', input_shape=[64, 64, 3]))"
   ]
  },
  {
   "cell_type": "markdown",
   "metadata": {
    "colab_type": "text",
    "id": "tf87FpvxmNOJ"
   },
   "source": [
    "### Step 2 - Pooling"
   ]
  },
  {
   "cell_type": "code",
   "execution_count": 10,
   "metadata": {
    "colab": {},
    "colab_type": "code",
    "id": "ncpqPl69mOac"
   },
   "outputs": [],
   "source": [
    "cnn.add(tf.keras.layers.MaxPool2D(pool_size=2, strides=2))"
   ]
  },
  {
   "cell_type": "markdown",
   "metadata": {
    "colab_type": "text",
    "id": "xaTOgD8rm4mU"
   },
   "source": [
    "### Adding a second convolutional layer"
   ]
  },
  {
   "cell_type": "code",
   "execution_count": 11,
   "metadata": {
    "colab": {},
    "colab_type": "code",
    "id": "i_-FZjn_m8gk"
   },
   "outputs": [],
   "source": [
    "cnn.add(tf.keras.layers.Conv2D(filters=32, kernel_size=3, activation='relu'))\n",
    "cnn.add(tf.keras.layers.MaxPool2D(pool_size=2, strides=2))"
   ]
  },
  {
   "cell_type": "markdown",
   "metadata": {
    "colab_type": "text",
    "id": "tmiEuvTunKfk"
   },
   "source": [
    "### Step 3 - Flattening"
   ]
  },
  {
   "cell_type": "code",
   "execution_count": 12,
   "metadata": {
    "colab": {},
    "colab_type": "code",
    "id": "6AZeOGCvnNZn"
   },
   "outputs": [],
   "source": [
    "cnn.add(tf.keras.layers.Flatten())"
   ]
  },
  {
   "cell_type": "markdown",
   "metadata": {
    "colab_type": "text",
    "id": "dAoSECOm203v"
   },
   "source": [
    "### Step 4 - Full Connection"
   ]
  },
  {
   "cell_type": "code",
   "execution_count": 13,
   "metadata": {
    "colab": {},
    "colab_type": "code",
    "id": "8GtmUlLd26Nq"
   },
   "outputs": [],
   "source": [
    "cnn.add(tf.keras.layers.Dense(units=128, activation='relu'))"
   ]
  },
  {
   "cell_type": "markdown",
   "metadata": {
    "colab_type": "text",
    "id": "yTldFvbX28Na"
   },
   "source": [
    "### Step 5 - Output Layer"
   ]
  },
  {
   "cell_type": "code",
   "execution_count": 14,
   "metadata": {
    "colab": {},
    "colab_type": "code",
    "id": "1p_Zj1Mc3Ko_"
   },
   "outputs": [],
   "source": [
    "cnn.add(tf.keras.layers.Dense(units=1, activation='sigmoid'))"
   ]
  },
  {
   "cell_type": "markdown",
   "metadata": {
    "colab_type": "text",
    "id": "D6XkI90snSDl"
   },
   "source": [
    "## Part 3 - Training the CNN"
   ]
  },
  {
   "cell_type": "markdown",
   "metadata": {
    "colab_type": "text",
    "id": "vfrFQACEnc6i"
   },
   "source": [
    "### Compiling the CNN"
   ]
  },
  {
   "cell_type": "code",
   "execution_count": 15,
   "metadata": {
    "colab": {},
    "colab_type": "code",
    "id": "NALksrNQpUlJ"
   },
   "outputs": [],
   "source": [
    "cnn.compile(optimizer = 'adam', loss = 'binary_crossentropy', metrics = ['accuracy'])"
   ]
  },
  {
   "cell_type": "markdown",
   "metadata": {
    "colab_type": "text",
    "id": "ehS-v3MIpX2h"
   },
   "source": [
    "### Training the CNN on the Training set and evaluating it on the Test set"
   ]
  },
  {
   "cell_type": "code",
   "execution_count": 16,
   "metadata": {
    "colab": {},
    "colab_type": "code",
    "id": "XUj1W4PJptta"
   },
   "outputs": [
    {
     "name": "stdout",
     "output_type": "stream",
     "text": [
      "Epoch 1/25\n",
      "27/27 [==============================] - 39s 1s/step - loss: 0.3733 - accuracy: 0.8446 - val_loss: 0.3445 - val_accuracy: 0.8269\n",
      "Epoch 2/25\n",
      "27/27 [==============================] - 34s 1s/step - loss: 0.1351 - accuracy: 0.9537 - val_loss: 0.6977 - val_accuracy: 0.7692\n",
      "Epoch 3/25\n",
      "27/27 [==============================] - 51s 2s/step - loss: 0.1117 - accuracy: 0.9585 - val_loss: 0.3869 - val_accuracy: 0.8590\n",
      "Epoch 4/25\n",
      "27/27 [==============================] - 47s 2s/step - loss: 0.1014 - accuracy: 0.9537 - val_loss: 0.5268 - val_accuracy: 0.8397\n",
      "Epoch 5/25\n",
      "27/27 [==============================] - 52s 2s/step - loss: 0.0767 - accuracy: 0.9703 - val_loss: 0.4311 - val_accuracy: 0.8654\n",
      "Epoch 6/25\n",
      "27/27 [==============================] - 41s 2s/step - loss: 0.0867 - accuracy: 0.9703 - val_loss: 0.2769 - val_accuracy: 0.9103\n",
      "Epoch 7/25\n",
      "27/27 [==============================] - 36s 1s/step - loss: 0.1233 - accuracy: 0.9502 - val_loss: 0.3023 - val_accuracy: 0.8974\n",
      "Epoch 8/25\n",
      "27/27 [==============================] - 42s 2s/step - loss: 0.0786 - accuracy: 0.9751 - val_loss: 0.4342 - val_accuracy: 0.8718\n",
      "Epoch 9/25\n",
      "27/27 [==============================] - 35s 1s/step - loss: 0.0506 - accuracy: 0.9846 - val_loss: 0.2906 - val_accuracy: 0.9038\n",
      "Epoch 10/25\n",
      "27/27 [==============================] - 35s 1s/step - loss: 0.0695 - accuracy: 0.9775 - val_loss: 0.5019 - val_accuracy: 0.8590\n",
      "Epoch 11/25\n",
      "27/27 [==============================] - 36s 1s/step - loss: 0.0637 - accuracy: 0.9798 - val_loss: 0.5881 - val_accuracy: 0.8397\n",
      "Epoch 12/25\n",
      "27/27 [==============================] - 36s 1s/step - loss: 0.0514 - accuracy: 0.9798 - val_loss: 0.6831 - val_accuracy: 0.8397\n",
      "Epoch 13/25\n",
      "27/27 [==============================] - 35s 1s/step - loss: 0.0477 - accuracy: 0.9810 - val_loss: 0.6439 - val_accuracy: 0.8397\n",
      "Epoch 14/25\n",
      "27/27 [==============================] - 35s 1s/step - loss: 0.0470 - accuracy: 0.9798 - val_loss: 0.9511 - val_accuracy: 0.8141\n",
      "Epoch 15/25\n",
      "27/27 [==============================] - 35s 1s/step - loss: 0.0368 - accuracy: 0.9905 - val_loss: 0.5007 - val_accuracy: 0.8910\n",
      "Epoch 16/25\n",
      "27/27 [==============================] - 34s 1s/step - loss: 0.0469 - accuracy: 0.9822 - val_loss: 0.2890 - val_accuracy: 0.9103\n",
      "Epoch 17/25\n",
      "27/27 [==============================] - 35s 1s/step - loss: 0.0289 - accuracy: 0.9905 - val_loss: 0.7407 - val_accuracy: 0.8205\n",
      "Epoch 18/25\n",
      "27/27 [==============================] - 37s 1s/step - loss: 0.0326 - accuracy: 0.9893 - val_loss: 0.5011 - val_accuracy: 0.8782\n",
      "Epoch 19/25\n",
      "27/27 [==============================] - 36s 1s/step - loss: 0.0280 - accuracy: 0.9905 - val_loss: 0.5254 - val_accuracy: 0.8782\n",
      "Epoch 20/25\n",
      "27/27 [==============================] - 34s 1s/step - loss: 0.0428 - accuracy: 0.9870 - val_loss: 0.7005 - val_accuracy: 0.8397\n",
      "Epoch 21/25\n",
      "27/27 [==============================] - 35s 1s/step - loss: 0.0425 - accuracy: 0.9786 - val_loss: 0.3633 - val_accuracy: 0.9167\n",
      "Epoch 22/25\n",
      "27/27 [==============================] - 35s 1s/step - loss: 0.0481 - accuracy: 0.9858 - val_loss: 1.2040 - val_accuracy: 0.7821\n",
      "Epoch 23/25\n",
      "27/27 [==============================] - 35s 1s/step - loss: 0.1365 - accuracy: 0.9454 - val_loss: 0.5368 - val_accuracy: 0.8333\n",
      "Epoch 24/25\n",
      "27/27 [==============================] - 41s 2s/step - loss: 0.0852 - accuracy: 0.9692 - val_loss: 0.4660 - val_accuracy: 0.8782\n",
      "Epoch 25/25\n",
      "27/27 [==============================] - 50s 2s/step - loss: 0.0668 - accuracy: 0.9656 - val_loss: 0.4677 - val_accuracy: 0.8462\n"
     ]
    },
    {
     "data": {
      "text/plain": [
       "<keras.callbacks.History at 0x1f9595709d0>"
      ]
     },
     "execution_count": 16,
     "metadata": {},
     "output_type": "execute_result"
    }
   ],
   "source": [
    "cnn.fit(x = training_set,validation_data=test_set, epochs = 25)"
   ]
  },
  {
   "cell_type": "markdown",
   "metadata": {
    "colab_type": "text",
    "id": "U3PZasO0006Z"
   },
   "source": [
    "## Part 4 - Making a single prediction"
   ]
  },
  {
   "cell_type": "code",
   "execution_count": 30,
   "metadata": {
    "colab": {},
    "colab_type": "code",
    "id": "gsSiWEJY1BPB"
   },
   "outputs": [
    {
     "name": "stdout",
     "output_type": "stream",
     "text": [
      "1/1 [==============================] - 0s 64ms/step\n",
      "[[0.]]\n",
      "Fire Detected\n"
     ]
    }
   ],
   "source": [
    "import numpy as np\n",
    "from keras.preprocessing import image\n",
    "test_image = tf.keras.utils.load_img('fire_dataset/single_prediction/non_fire.10.jfif', target_size = (64, 64))\n",
    "test_image =  tf.keras.utils.img_to_array(test_image)\n",
    "test_image = np.expand_dims(test_image, axis = 0)\n",
    "result = cnn.predict(test_image)\n",
    "training_set.class_indices\n",
    "print(result)\n",
    "if result[0][0] == 1:\n",
    "  prediction = 'Fire Not Detected'\n",
    "else:\n",
    "  prediction = 'Fire Detected'\n",
    "print(prediction)"
   ]
  },
  {
   "cell_type": "code",
   "execution_count": 17,
   "metadata": {},
   "outputs": [],
   "source": [
    "cnn.save('fire_model.h5')"
   ]
  }
 ],
 "metadata": {
  "colab": {
   "authorship_tag": "ABX9TyON0YxX/oky4tPbqCLnFjWD",
   "collapsed_sections": [],
   "name": "convolutional_neural_network.ipynb",
   "provenance": [],
   "toc_visible": true
  },
  "kernelspec": {
   "display_name": "Python 3.9.12 ('base')",
   "language": "python",
   "name": "python3"
  },
  "language_info": {
   "codemirror_mode": {
    "name": "ipython",
    "version": 3
   },
   "file_extension": ".py",
   "mimetype": "text/x-python",
   "name": "python",
   "nbconvert_exporter": "python",
   "pygments_lexer": "ipython3",
   "version": "3.9.12"
  },
  "vscode": {
   "interpreter": {
    "hash": "73a197a79e860027e9e7724e311d3867b5840734267a0b6823cf429c04fedd9e"
   }
  }
 },
 "nbformat": 4,
 "nbformat_minor": 1
}
